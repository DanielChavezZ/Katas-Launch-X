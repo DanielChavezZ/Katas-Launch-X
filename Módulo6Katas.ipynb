{
  "cells": [
    {
      "cell_type": "markdown",
      "metadata": {},
      "source": [
        "# Ejercicio1: Crear y usar listas de Python\n"
      ]
    },
    {
      "cell_type": "markdown",
      "metadata": {},
      "source": [
        "### Ejercicio: Usar listas para almacenar nombres de planetas\n",
        "Las listas permiten almacenar varios valores en una sola variable. Comenzarás un proyecto sobre información planetaria creando una lista de planetas.\n",
        "\n",
        "> **TIP**\n",
        "> Dedica unos minutos para tratar de encontrar una solución. Luego desplázate hacia abajo hasta la parte inferior para ver si has logrado compilar el programa de acuerdo con las especificaciones"
      ]
    },
    {
      "cell_type": "markdown",
      "metadata": {},
      "source": [
        "En primer lugar, crea una variable denominada `planets`. Agrega los ocho planetas (sin Plutón) a la lista. A continuación, muestra el número de planetas."
      ]
    },
    {
      "cell_type": "code",
      "execution_count": 5,
      "metadata": {},
      "outputs": [
        {
          "name": "stdout",
          "output_type": "stream",
          "text": [
            "Existen 8 planetas en el sistema solar.\n"
          ]
        }
      ],
      "source": [
        "planetas = [\"Mercurio\", \"Venus\", \"Tierra\", \"Marte\", \"Jupiter\", \"Saturno\", \"Urano\", \"Neptuno\"]\n",
        "numberofplanetas = len(planetas)\n",
        "print(\"Existen\", numberofplanetas, \"planetas en el sistema solar.\")"
      ]
    },
    {
      "cell_type": "markdown",
      "metadata": {},
      "source": [
        "Agrega a Plutón a la lista que creaste. Luego muestra tanto el número de planetas como el último planeta de la lista."
      ]
    },
    {
      "cell_type": "code",
      "execution_count": 6,
      "metadata": {},
      "outputs": [
        {
          "name": "stdout",
          "output_type": "stream",
          "text": [
            "Pluton Es el ultimo planeta\n"
          ]
        }
      ],
      "source": [
        "planetas.append (\"Pluton\")\n",
        "numero_de_planetas = len (planetas)\n",
        "print(planetas[-1], 'Es el ultimo planeta')\n"
      ]
    },
    {
      "cell_type": "markdown",
      "metadata": {},
      "source": [
        "> Recuerda: Lo importante es intentarlo, puedes auxiliarte de internet, libros, etc. El objetivo de una kata es la comprobación de la comprensión de la lección y su aplicación inmediata a la resolución de problemas. Go for it!"
      ]
    },
    {
      "cell_type": "markdown",
      "metadata": {},
      "source": [
        "## Ejercicio 2: Trabajando con datos de una lista\n",
        "\n",
        "### Usar slices para recuperar partes de una lista"
      ]
    },
    {
      "cell_type": "markdown",
      "metadata": {},
      "source": [
        "Es posible que debas trabajar con diferentes secciones de una lista. En nuestro ejemplo, queremos mostrar planetas más cerca y más lejos del sol de un planeta que el usuario ingresa por teclado.\n",
        "\n",
        "Comienza agregando el código para crear una lista con los planetas."
      ]
    },
    {
      "cell_type": "code",
      "execution_count": 7,
      "metadata": {},
      "outputs": [
        {
          "name": "stdout",
          "output_type": "stream",
          "text": [
            "El primer planeta es Mercurio\n",
            "El segundo planeta es Venus\n",
            "El tercer planeta es Tierra\n",
            "El cuarto planeta es Marte\n",
            "El quinto planeta es Jupiter\n",
            "El sexto planeta es Saturno\n",
            "El septimo planeta es Urano\n",
            "El octavo planeta es Neptuno\n"
          ]
        }
      ],
      "source": [
        "print (\"El primer planeta es\", planetas [0] )\n",
        "print (\"El segundo planeta es\", planetas [1] )\n",
        "print (\"El tercer planeta es\", planetas [2] )\n",
        "print (\"El cuarto planeta es\", planetas [3] )\n",
        "print (\"El quinto planeta es\", planetas [4] )\n",
        "print (\"El sexto planeta es\", planetas [5] )\n",
        "print (\"El septimo planeta es\", planetas [6] )\n",
        "print (\"El octavo planeta es\", planetas [7] )\n"
      ]
    },
    {
      "cell_type": "markdown",
      "metadata": {},
      "source": [
        "### Solicita al usuario el nombre de un planeta\n",
        "\n",
        "A continuación, agrega el código para solicitar al usuario un nombre. Debido a que las cadenas distinguen entre mayúsculas y minúsculas en Python, pídale al usuario que use una letra mayúscula para comenzar el nombre del planeta."
      ]
    },
    {
      "cell_type": "code",
      "execution_count": 8,
      "metadata": {},
      "outputs": [],
      "source": [
        "Nombre_de_planetas = input  ('Por favor ingresa el nombre de un planeta (Con Letra Mayuscula al inicio)')"
      ]
    },
    {
      "cell_type": "markdown",
      "metadata": {},
      "source": [
        "### Encuentra el planeta en la lista\n",
        "Para determinar qué planetas están más cerca que el que ingresó el usuario, debes encontrar dónde está el planeta en la lista. Puedes utilizar `index` para realizar esta operación. Agrega el código para encontrar el índice del planeta."
      ]
    },
    {
      "cell_type": "code",
      "execution_count": 11,
      "metadata": {},
      "outputs": [
        {
          "name": "stdout",
          "output_type": "stream",
          "text": [
            "Estos son los planetas que estan mas cerca 2\n",
            "Estos son los planetas que estan mas cerca 4\n"
          ]
        }
      ],
      "source": [
        "Venus_index = planetas.index (\"Venus\")\n",
        "print(\"Estos son los planetas que estan mas cerca\", Venus_index +1)\n",
        "Marte_index = planetas.index (\"Marte\")\n",
        "print(\"Estos son los planetas que estan mas cerca\", Marte_index +1,)  "
      ]
    },
    {
      "cell_type": "markdown",
      "metadata": {},
      "source": [
        "### Mostrar planetas más cercanos al sol que el que el usuario ingresó\n",
        "\n",
        "Con el índice determinado, ahora puedes agregar el código para mostrar los planetas más cercanos al sol."
      ]
    },
    {
      "cell_type": "code",
      "execution_count": 12,
      "metadata": {},
      "outputs": [
        {
          "name": "stdout",
          "output_type": "stream",
          "text": [
            "Mercurio es el 1 planeta mas cercano al sol\n",
            "La Tierra es el 3  planeta mas cercano al sol\n"
          ]
        }
      ],
      "source": [
        "Mercurio_index = planetas.index (\"Mercurio\")\n",
        "print(\"Mercurio es el\", Mercurio_index +1, \"planeta mas cercano al sol\")\n",
        "Tierra_index = planetas.index (\"Tierra\")\n",
        "print(\"La Tierra es el\", Tierra_index +1, \" planeta mas cercano al sol\")  "
      ]
    },
    {
      "cell_type": "markdown",
      "metadata": {},
      "source": [
        "# Mostrar planetas más alejados del sol que el que el usuario ingresó\n",
        "\n",
        "Puedes usar el mismo índice para mostrar planetas más alejados del sol. Sin embargo, recuerda que el índice inicial se incluye cuando usas un slice. Como resultado, tendrás que agregar 1 al valor. Agrega el código para mostrar los planetas más alejados del sol."
      ]
    },
    {
      "cell_type": "code",
      "execution_count": 13,
      "metadata": {},
      "outputs": [
        {
          "name": "stdout",
          "output_type": "stream",
          "text": [
            "Estos son los planetas mas alejados ['Jupiter', 'Saturno', 'Urano']\n"
          ]
        }
      ],
      "source": [
        "planetas_despues_de_marte = planetas [4:7]\n",
        "print (\"Estos son los planetas mas alejados\", planetas_despues_de_marte)\n"
      ]
    },
    {
      "cell_type": "markdown",
      "metadata": {},
      "source": [
        "## Soluciones"
      ]
    },
    {
      "cell_type": "markdown",
      "metadata": {},
      "source": [
        "### Ejercicio 1"
      ]
    },
    {
      "cell_type": "code",
      "execution_count": null,
      "metadata": {},
      "outputs": [],
      "source": [
        "# Creamos la lista planets y la mostramos\n",
        "\n",
        "planets = ['Mercury', 'Venus', 'Earth', 'Mars', 'Jupiter', 'Saturn', 'Uranus', 'Neptune']\n",
        "\n",
        "print('There are', len(planets), 'planets')"
      ]
    },
    {
      "cell_type": "code",
      "execution_count": null,
      "metadata": {},
      "outputs": [],
      "source": [
        "# Agregamos a plutón y mostramos el último elemento\n",
        "\n",
        "planets.append('Pluto')\n",
        "\n",
        "print(planets[-1], 'is the last planet')"
      ]
    },
    {
      "cell_type": "markdown",
      "metadata": {},
      "source": [
        "## Ejercicio 2"
      ]
    },
    {
      "cell_type": "code",
      "execution_count": null,
      "metadata": {},
      "outputs": [],
      "source": [
        "# Lista de planetas\n",
        "\n",
        "planets = ['Mercury', 'Venus', 'Earth', 'Mars', 'Jupiter', 'Saturn', 'Neptune']"
      ]
    },
    {
      "cell_type": "code",
      "execution_count": null,
      "metadata": {},
      "outputs": [],
      "source": [
        "# Solicitamos el nombre de un planeta *Pista:  input()*\n",
        "user_planet = input('Please enter the name of the planet (with a capital letter to start)')"
      ]
    },
    {
      "cell_type": "code",
      "execution_count": null,
      "metadata": {},
      "outputs": [],
      "source": [
        "# Busca el planeta en la lista\n",
        "\n",
        "planet_index = planets.index(user_planet)"
      ]
    },
    {
      "cell_type": "code",
      "execution_count": 86,
      "metadata": {},
      "outputs": [
        {
          "name": "stdout",
          "output_type": "stream",
          "text": [
            "Here are the planets closer than Mercury\n"
          ]
        },
        {
          "ename": "NameError",
          "evalue": "name 'planet_index' is not defined",
          "output_type": "error",
          "traceback": [
            "\u001b[1;31m---------------------------------------------------------------------------\u001b[0m",
            "\u001b[1;31mNameError\u001b[0m                                 Traceback (most recent call last)",
            "\u001b[1;32mc:\\Users\\Ogada\\Downloads\\CursoIntroPython-main\\Módulo 6 - Introducción a las listas\\Módulo6Katas.ipynb Cell 27'\u001b[0m in \u001b[0;36m<module>\u001b[1;34m\u001b[0m\n\u001b[0;32m      <a href='vscode-notebook-cell:/c%3A/Users/Ogada/Downloads/CursoIntroPython-main/M%C3%B3dulo%206%20-%20Introducci%C3%B3n%20a%20las%20listas/M%C3%B3dulo6Katas.ipynb#ch0000026?line=0'>1</a>\u001b[0m \u001b[39m# Muestra los planetas más cercanos al sol\u001b[39;00m\n\u001b[0;32m      <a href='vscode-notebook-cell:/c%3A/Users/Ogada/Downloads/CursoIntroPython-main/M%C3%B3dulo%206%20-%20Introducci%C3%B3n%20a%20las%20listas/M%C3%B3dulo6Katas.ipynb#ch0000026?line=2'>3</a>\u001b[0m \u001b[39mprint\u001b[39m(\u001b[39m'\u001b[39m\u001b[39mHere are the planets closer than \u001b[39m\u001b[39m'\u001b[39m \u001b[39m+\u001b[39m user_planet)\n\u001b[1;32m----> <a href='vscode-notebook-cell:/c%3A/Users/Ogada/Downloads/CursoIntroPython-main/M%C3%B3dulo%206%20-%20Introducci%C3%B3n%20a%20las%20listas/M%C3%B3dulo6Katas.ipynb#ch0000026?line=3'>4</a>\u001b[0m \u001b[39mprint\u001b[39m(planets[\u001b[39m0\u001b[39m:planet_index])\n",
            "\u001b[1;31mNameError\u001b[0m: name 'planet_index' is not defined"
          ]
        }
      ],
      "source": [
        "# Muestra los planetas más cercanos al sol\n",
        "\n",
        "print('Here are the planets closer than ' + user_planet)\n",
        "print(planets[0:planet_index])"
      ]
    },
    {
      "cell_type": "code",
      "execution_count": 87,
      "metadata": {},
      "outputs": [
        {
          "name": "stdout",
          "output_type": "stream",
          "text": [
            "Here are the planets further than Mercury\n"
          ]
        },
        {
          "ename": "NameError",
          "evalue": "name 'planet_index' is not defined",
          "output_type": "error",
          "traceback": [
            "\u001b[1;31m---------------------------------------------------------------------------\u001b[0m",
            "\u001b[1;31mNameError\u001b[0m                                 Traceback (most recent call last)",
            "\u001b[1;32mc:\\Users\\Ogada\\Downloads\\CursoIntroPython-main\\Módulo 6 - Introducción a las listas\\Módulo6Katas.ipynb Cell 28'\u001b[0m in \u001b[0;36m<module>\u001b[1;34m\u001b[0m\n\u001b[0;32m      <a href='vscode-notebook-cell:/c%3A/Users/Ogada/Downloads/CursoIntroPython-main/M%C3%B3dulo%206%20-%20Introducci%C3%B3n%20a%20las%20listas/M%C3%B3dulo6Katas.ipynb#ch0000027?line=0'>1</a>\u001b[0m \u001b[39m# Muestra los planetas más lejanos al sol\u001b[39;00m\n\u001b[0;32m      <a href='vscode-notebook-cell:/c%3A/Users/Ogada/Downloads/CursoIntroPython-main/M%C3%B3dulo%206%20-%20Introducci%C3%B3n%20a%20las%20listas/M%C3%B3dulo6Katas.ipynb#ch0000027?line=2'>3</a>\u001b[0m \u001b[39mprint\u001b[39m(\u001b[39m'\u001b[39m\u001b[39mHere are the planets further than \u001b[39m\u001b[39m'\u001b[39m \u001b[39m+\u001b[39m user_planet)\n\u001b[1;32m----> <a href='vscode-notebook-cell:/c%3A/Users/Ogada/Downloads/CursoIntroPython-main/M%C3%B3dulo%206%20-%20Introducci%C3%B3n%20a%20las%20listas/M%C3%B3dulo6Katas.ipynb#ch0000027?line=3'>4</a>\u001b[0m \u001b[39mprint\u001b[39m(planets[planet_index \u001b[39m+\u001b[39m \u001b[39m1\u001b[39m:])\n",
            "\u001b[1;31mNameError\u001b[0m: name 'planet_index' is not defined"
          ]
        }
      ],
      "source": [
        "# Muestra los planetas más lejanos al sol\n",
        "\n",
        "print('Here are the planets further than ' + user_planet)\n",
        "print(planets[planet_index + 1:])"
      ]
    },
    {
      "cell_type": "markdown",
      "metadata": {},
      "source": [
        "Curso Propedútico de Python para Launch X - Innovacción Virtual.\n",
        "\n",
        "Material desarrollado con base en los contenidos de MSLearn y la metáfora de LaunchX, traducción e implementación por: Fernanda Ochoa - Learning Producer de LaunchX.\n",
        "\n",
        "Redes:\n",
        "* GitHub: [FernandaOchoa](https://github.com/FernandaOchoa)\n",
        "* Twitter: [@imonsh](https://twitter.com/imonsh)\n",
        "* Instagram: [fherz8a](https://www.instagram.com/fherz8a/)"
      ]
    }
  ],
  "metadata": {
    "interpreter": {
      "hash": "b8bdd4e700647ba2b08c59e5df8b7da1dcf50a218bcd4c1bcd9b3dc92e8788e5"
    },
    "kernelspec": {
      "display_name": "Python 3.9.1 64-bit",
      "name": "python3"
    },
    "language_info": {
      "codemirror_mode": {
        "name": "ipython",
        "version": 3
      },
      "file_extension": ".py",
      "mimetype": "text/x-python",
      "name": "python",
      "nbconvert_exporter": "python",
      "pygments_lexer": "ipython3",
      "version": "3.10.2"
    },
    "nteract": {
      "version": "nteract-front-end@1.0.0"
    }
  },
  "nbformat": 4,
  "nbformat_minor": 4
}
